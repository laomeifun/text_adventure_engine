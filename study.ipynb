{
 "cells": [
  {
   "cell_type": "code",
   "execution_count": null,
   "id": "bf6dbad7",
   "metadata": {
    "vscode": {
     "languageId": "rust"
    }
   },
   "outputs": [
    {
     "ename": "Error",
     "evalue": "The variable `scorex` contains a reference with a non-static lifetime so\ncan't be persisted. You can prevent this error by making sure that the\nvariable goes out of scope - i.e. wrapping the code in {}.",
     "output_type": "error",
     "traceback": [
      "let scorex = scores.get(&team_name); // 注意这里传入的是引用 &team_name",
      "let scorex = scores.get(&team_name); // 注意这里传入的是引用 &team_name",
      "    ^^^^^^ ",
      "The variable `scorex` contains a reference with a non-static lifetime so\ncan't be persisted. You can prevent this error by making sure that the\nvariable goes out of scope - i.e. wrapping the code in {}."
     ]
    }
   ],
   "source": [
    "// 1. 引入 HashMap\n",
    "use std::collections::HashMap;\n",
    "let mut scores: HashMap<String, i32> = HashMap::new();\n",
    "\n",
    "scores.insert(String::from(\"蓝队\"), 10);\n",
    "scores.insert(String::from(\"红队\"), 50);\n",
    "let team_name = String::from(\"红队\");\n",
    "\n",
    "// 使用作用域来确保引用不会持久化\n",
    "{\n",
    "    let score = scores.get(&team_name); // 注意这里传入的是引用 &team_name\n",
    "    match score {\n",
    "        Some(s) => println!(\"{} 的分数是: {}\", team_name, s),\n",
    "        None => println!(\"{} 不存在\", team_name),\n",
    "    }\n",
    "}\n",
    "\n",
    "// 另一种方法是克隆值\n",
    "// let score_value = scores.get(&team_name).cloned();\n",
    "// match score_value {\n",
    "//     Some(s) => println!(\"{} 的分数是: {}\", team_name, s),\n",
    "//     None => println!(\"{} 不存在\", team_name),\n",
    "// }"
   ]
  },
  {
   "cell_type": "markdown",
   "id": "1e944dc8",
   "metadata": {},
   "source": [
    "## Rust 中的引用生命周期问题\n",
    "\n",
    "在 Rust 中，引用的生命周期是一个重要概念。上面的代码之所以会出错，是因为：\n",
    "\n",
    "1. `scores.get(&team_name)` 返回的是一个对 HashMap 内部值的引用 (`Option<&i32>`)。\n",
    "2. 这个引用依赖于 HashMap 的生命周期，如果它被存储在一个变量中并在作用域外使用，就可能导致悬垂引用。\n",
    "\n",
    "有两种主要解决方案：\n",
    "\n",
    "1. **使用作用域限制**：将引用的使用包装在一个作用域内，确保它不会持久化。\n",
    "2. **克隆值**：如果需要在更大的作用域中使用值，可以使用 `cloned()` 方法获取值的拷贝而不是引用。\n",
    "\n",
    "Rust 的所有权系统通过这种方式确保内存安全，避免了空指针和数据竞争问题。"
   ]
  }
 ],
 "metadata": {
  "kernelspec": {
   "display_name": "Rust",
   "language": "rust",
   "name": "rust"
  },
  "language_info": {
   "codemirror_mode": "rust",
   "file_extension": ".rs",
   "mimetype": "text/rust",
   "name": "Rust",
   "pygment_lexer": "rust",
   "version": ""
  }
 },
 "nbformat": 4,
 "nbformat_minor": 5
}
